{
  "nbformat": 4,
  "nbformat_minor": 5,
  "metadata": {
    "kernelspec": {
      "display_name": "Python 3",
      "language": "python",
      "name": "python3"
    },
    "language_info": {
      "codemirror_mode": {
        "name": "ipython",
        "version": 3
      },
      "file_extension": ".py",
      "mimetype": "text/x-python",
      "name": "python",
      "nbconvert_exporter": "python",
      "pygments_lexer": "ipython3",
      "version": "3.8.6"
    },
    "colab": {
      "name": "configure.ipynb",
      "provenance": [],
      "toc_visible": true
    },
    "accelerator": "GPU"
  },
  "cells": [
    {
      "cell_type": "markdown",
      "metadata": {
        "id": "78b6DkdF4eb4"
      },
      "source": [
        "# Getting started with Colab + GitHub + Google Drive"
      ],
      "id": "78b6DkdF4eb4"
    },
    {
      "cell_type": "code",
      "metadata": {
        "id": "lt2Lr-n4RWwh"
      },
      "source": [
        "import xarray"
      ],
      "id": "lt2Lr-n4RWwh",
      "execution_count": 1,
      "outputs": []
    },
    {
      "cell_type": "code",
      "metadata": {
        "colab": {
          "base_uri": "https://localhost:8080/"
        },
        "id": "advance-vulnerability",
        "outputId": "f1931baf-6370-4586-fa2e-e1b150d131d7"
      },
      "source": [
        "# although we started this notebook from a binder badge here https://github.com/scottyhq/colab-experiments\n",
        "# we don't have the full repository contents in the default directory\n",
        "!ls"
      ],
      "id": "advance-vulnerability",
      "execution_count": null,
      "outputs": [
        {
          "output_type": "stream",
          "text": [
            "drive  sample_data  test.txt\n"
          ],
          "name": "stdout"
        }
      ]
    },
    {
      "cell_type": "code",
      "metadata": {
        "id": "7jlH1xGw3z-G"
      },
      "source": [
        "# but edits can be committed back to github via `File --> Save a Copy in GitHub`"
      ],
      "id": "7jlH1xGw3z-G",
      "execution_count": null,
      "outputs": []
    },
    {
      "cell_type": "code",
      "metadata": {
        "id": "ISlkir1V4lic"
      },
      "source": [
        "# Connecting data from google drive\n",
        "# Folder sidebar --> Drive icon --> auto-creates code cell below:"
      ],
      "id": "ISlkir1V4lic",
      "execution_count": null,
      "outputs": []
    },
    {
      "cell_type": "code",
      "metadata": {
        "id": "GjR6xhot4237",
        "colab": {
          "base_uri": "https://localhost:8080/"
        },
        "outputId": "4fae03fd-9938-4894-e821-a1ebb24716e4"
      },
      "source": [
        "# Seems like this can be unreliable for shared drives...\n",
        "# https://github.com/googlecolab/colabtools/issues/1494\n",
        "# This also is going to be challenging to run anywhere other than colab \n",
        "# https://stackoverflow.com/questions/60008929/how-to-use-google-colab-local-runtime-and-connect-to-google-drive\n",
        "# Running the code sends you to an authorization URL to get a token\n",
        "# <-- after a few seconds you get a 'drive' folder over on the left\n",
        "from google.colab import drive\n",
        "drive.mount('/content/drive')"
      ],
      "id": "GjR6xhot4237",
      "execution_count": null,
      "outputs": [
        {
          "output_type": "stream",
          "text": [
            "Drive already mounted at /content/drive; to attempt to forcibly remount, call drive.mount(\"/content/drive\", force_remount=True).\n"
          ],
          "name": "stdout"
        }
      ]
    },
    {
      "cell_type": "code",
      "metadata": {
        "id": "EdJTwnnC563M",
        "colab": {
          "base_uri": "https://localhost:8080/"
        },
        "outputId": "ef65f47a-621e-4a95-f6ff-efe91e6efe89"
      },
      "source": [
        "ls /content/drive"
      ],
      "id": "EdJTwnnC563M",
      "execution_count": null,
      "outputs": [
        {
          "output_type": "stream",
          "text": [
            "\u001b[0m\u001b[01;34mMyDrive\u001b[0m/  \u001b[01;34mShareddrives\u001b[0m/\n"
          ],
          "name": "stdout"
        }
      ]
    },
    {
      "cell_type": "code",
      "metadata": {
        "id": "q_nmoyC16QOk",
        "colab": {
          "base_uri": "https://localhost:8080/"
        },
        "outputId": "55021a94-ea84-40a6-ed8e-c81c1fc3cd24"
      },
      "source": [
        "ls /content/drive/Shareddrives/Incubator2021/data/dataset/"
      ],
      "id": "q_nmoyC16QOk",
      "execution_count": null,
      "outputs": [
        {
          "output_type": "stream",
          "text": [
            "dataset.nc\n"
          ],
          "name": "stdout"
        }
      ]
    },
    {
      "cell_type": "code",
      "metadata": {
        "id": "zuIIq_zA6TyZ"
      },
      "source": [
        "# Ok there is our data! Now how to open with xarray? is xarray installed in the default environment?\n",
        "import xarray as xr"
      ],
      "id": "zuIIq_zA6TyZ",
      "execution_count": null,
      "outputs": []
    },
    {
      "cell_type": "code",
      "metadata": {
        "id": "TZUWQ4KR6_2q",
        "colab": {
          "base_uri": "https://localhost:8080/",
          "height": 37
        },
        "outputId": "c0247809-2010-48da-b680-5756641b2483"
      },
      "source": [
        "# It is! but it's an older version compared to the one we want (0.15.1) \n",
        "xr.__version__"
      ],
      "id": "TZUWQ4KR6_2q",
      "execution_count": null,
      "outputs": [
        {
          "output_type": "execute_result",
          "data": {
            "application/vnd.google.colaboratory.intrinsic+json": {
              "type": "string"
            },
            "text/plain": [
              "'0.16.2'"
            ]
          },
          "metadata": {
            "tags": []
          },
          "execution_count": 12
        }
      ]
    },
    {
      "cell_type": "code",
      "metadata": {
        "id": "weweAX887BDS"
      },
      "source": [
        "# Conda is not installed. pip is though, so you can upgrade a package with the -U flag\n",
        "#! pip install -U xarray netcdf4\n",
        "# might have to restart runtime?"
      ],
      "id": "weweAX887BDS",
      "execution_count": null,
      "outputs": []
    },
    {
      "cell_type": "code",
      "metadata": {
        "id": "4-vvoMi27Izg",
        "colab": {
          "base_uri": "https://localhost:8080/",
          "height": 382
        },
        "outputId": "2388f679-01bc-4e5b-8581-888c1da2d07b"
      },
      "source": [
        "datadir = '/content/drive/Shareddrives/Incubator2021/data/dataset/'\n",
        "ds = xr.open_dataset(f'{datadir}/dataset.nc')\n",
        "ds"
      ],
      "id": "4-vvoMi27Izg",
      "execution_count": null,
      "outputs": [
        {
          "output_type": "execute_result",
          "data": {
            "text/html": [
              "<div><svg style=\"position: absolute; width: 0; height: 0; overflow: hidden\">\n",
              "<defs>\n",
              "<symbol id=\"icon-database\" viewBox=\"0 0 32 32\">\n",
              "<path d=\"M16 0c-8.837 0-16 2.239-16 5v4c0 2.761 7.163 5 16 5s16-2.239 16-5v-4c0-2.761-7.163-5-16-5z\"></path>\n",
              "<path d=\"M16 17c-8.837 0-16-2.239-16-5v6c0 2.761 7.163 5 16 5s16-2.239 16-5v-6c0 2.761-7.163 5-16 5z\"></path>\n",
              "<path d=\"M16 26c-8.837 0-16-2.239-16-5v6c0 2.761 7.163 5 16 5s16-2.239 16-5v-6c0 2.761-7.163 5-16 5z\"></path>\n",
              "</symbol>\n",
              "<symbol id=\"icon-file-text2\" viewBox=\"0 0 32 32\">\n",
              "<path d=\"M28.681 7.159c-0.694-0.947-1.662-2.053-2.724-3.116s-2.169-2.030-3.116-2.724c-1.612-1.182-2.393-1.319-2.841-1.319h-15.5c-1.378 0-2.5 1.121-2.5 2.5v27c0 1.378 1.122 2.5 2.5 2.5h23c1.378 0 2.5-1.122 2.5-2.5v-19.5c0-0.448-0.137-1.23-1.319-2.841zM24.543 5.457c0.959 0.959 1.712 1.825 2.268 2.543h-4.811v-4.811c0.718 0.556 1.584 1.309 2.543 2.268zM28 29.5c0 0.271-0.229 0.5-0.5 0.5h-23c-0.271 0-0.5-0.229-0.5-0.5v-27c0-0.271 0.229-0.5 0.5-0.5 0 0 15.499-0 15.5 0v7c0 0.552 0.448 1 1 1h7v19.5z\"></path>\n",
              "<path d=\"M23 26h-14c-0.552 0-1-0.448-1-1s0.448-1 1-1h14c0.552 0 1 0.448 1 1s-0.448 1-1 1z\"></path>\n",
              "<path d=\"M23 22h-14c-0.552 0-1-0.448-1-1s0.448-1 1-1h14c0.552 0 1 0.448 1 1s-0.448 1-1 1z\"></path>\n",
              "<path d=\"M23 18h-14c-0.552 0-1-0.448-1-1s0.448-1 1-1h14c0.552 0 1 0.448 1 1s-0.448 1-1 1z\"></path>\n",
              "</symbol>\n",
              "</defs>\n",
              "</svg>\n",
              "<style>/* CSS stylesheet for displaying xarray objects in jupyterlab.\n",
              " *\n",
              " */\n",
              "\n",
              ":root {\n",
              "  --xr-font-color0: var(--jp-content-font-color0, rgba(0, 0, 0, 1));\n",
              "  --xr-font-color2: var(--jp-content-font-color2, rgba(0, 0, 0, 0.54));\n",
              "  --xr-font-color3: var(--jp-content-font-color3, rgba(0, 0, 0, 0.38));\n",
              "  --xr-border-color: var(--jp-border-color2, #e0e0e0);\n",
              "  --xr-disabled-color: var(--jp-layout-color3, #bdbdbd);\n",
              "  --xr-background-color: var(--jp-layout-color0, white);\n",
              "  --xr-background-color-row-even: var(--jp-layout-color1, white);\n",
              "  --xr-background-color-row-odd: var(--jp-layout-color2, #eeeeee);\n",
              "}\n",
              "\n",
              "html[theme=dark],\n",
              "body.vscode-dark {\n",
              "  --xr-font-color0: rgba(255, 255, 255, 1);\n",
              "  --xr-font-color2: rgba(255, 255, 255, 0.54);\n",
              "  --xr-font-color3: rgba(255, 255, 255, 0.38);\n",
              "  --xr-border-color: #1F1F1F;\n",
              "  --xr-disabled-color: #515151;\n",
              "  --xr-background-color: #111111;\n",
              "  --xr-background-color-row-even: #111111;\n",
              "  --xr-background-color-row-odd: #313131;\n",
              "}\n",
              "\n",
              ".xr-wrap {\n",
              "  display: block;\n",
              "  min-width: 300px;\n",
              "  max-width: 700px;\n",
              "}\n",
              "\n",
              ".xr-text-repr-fallback {\n",
              "  /* fallback to plain text repr when CSS is not injected (untrusted notebook) */\n",
              "  display: none;\n",
              "}\n",
              "\n",
              ".xr-header {\n",
              "  padding-top: 6px;\n",
              "  padding-bottom: 6px;\n",
              "  margin-bottom: 4px;\n",
              "  border-bottom: solid 1px var(--xr-border-color);\n",
              "}\n",
              "\n",
              ".xr-header > div,\n",
              ".xr-header > ul {\n",
              "  display: inline;\n",
              "  margin-top: 0;\n",
              "  margin-bottom: 0;\n",
              "}\n",
              "\n",
              ".xr-obj-type,\n",
              ".xr-array-name {\n",
              "  margin-left: 2px;\n",
              "  margin-right: 10px;\n",
              "}\n",
              "\n",
              ".xr-obj-type {\n",
              "  color: var(--xr-font-color2);\n",
              "}\n",
              "\n",
              ".xr-sections {\n",
              "  padding-left: 0 !important;\n",
              "  display: grid;\n",
              "  grid-template-columns: 150px auto auto 1fr 20px 20px;\n",
              "}\n",
              "\n",
              ".xr-section-item {\n",
              "  display: contents;\n",
              "}\n",
              "\n",
              ".xr-section-item input {\n",
              "  display: none;\n",
              "}\n",
              "\n",
              ".xr-section-item input + label {\n",
              "  color: var(--xr-disabled-color);\n",
              "}\n",
              "\n",
              ".xr-section-item input:enabled + label {\n",
              "  cursor: pointer;\n",
              "  color: var(--xr-font-color2);\n",
              "}\n",
              "\n",
              ".xr-section-item input:enabled + label:hover {\n",
              "  color: var(--xr-font-color0);\n",
              "}\n",
              "\n",
              ".xr-section-summary {\n",
              "  grid-column: 1;\n",
              "  color: var(--xr-font-color2);\n",
              "  font-weight: 500;\n",
              "}\n",
              "\n",
              ".xr-section-summary > span {\n",
              "  display: inline-block;\n",
              "  padding-left: 0.5em;\n",
              "}\n",
              "\n",
              ".xr-section-summary-in:disabled + label {\n",
              "  color: var(--xr-font-color2);\n",
              "}\n",
              "\n",
              ".xr-section-summary-in + label:before {\n",
              "  display: inline-block;\n",
              "  content: '►';\n",
              "  font-size: 11px;\n",
              "  width: 15px;\n",
              "  text-align: center;\n",
              "}\n",
              "\n",
              ".xr-section-summary-in:disabled + label:before {\n",
              "  color: var(--xr-disabled-color);\n",
              "}\n",
              "\n",
              ".xr-section-summary-in:checked + label:before {\n",
              "  content: '▼';\n",
              "}\n",
              "\n",
              ".xr-section-summary-in:checked + label > span {\n",
              "  display: none;\n",
              "}\n",
              "\n",
              ".xr-section-summary,\n",
              ".xr-section-inline-details {\n",
              "  padding-top: 4px;\n",
              "  padding-bottom: 4px;\n",
              "}\n",
              "\n",
              ".xr-section-inline-details {\n",
              "  grid-column: 2 / -1;\n",
              "}\n",
              "\n",
              ".xr-section-details {\n",
              "  display: none;\n",
              "  grid-column: 1 / -1;\n",
              "  margin-bottom: 5px;\n",
              "}\n",
              "\n",
              ".xr-section-summary-in:checked ~ .xr-section-details {\n",
              "  display: contents;\n",
              "}\n",
              "\n",
              ".xr-array-wrap {\n",
              "  grid-column: 1 / -1;\n",
              "  display: grid;\n",
              "  grid-template-columns: 20px auto;\n",
              "}\n",
              "\n",
              ".xr-array-wrap > label {\n",
              "  grid-column: 1;\n",
              "  vertical-align: top;\n",
              "}\n",
              "\n",
              ".xr-preview {\n",
              "  color: var(--xr-font-color3);\n",
              "}\n",
              "\n",
              ".xr-array-preview,\n",
              ".xr-array-data {\n",
              "  padding: 0 5px !important;\n",
              "  grid-column: 2;\n",
              "}\n",
              "\n",
              ".xr-array-data,\n",
              ".xr-array-in:checked ~ .xr-array-preview {\n",
              "  display: none;\n",
              "}\n",
              "\n",
              ".xr-array-in:checked ~ .xr-array-data,\n",
              ".xr-array-preview {\n",
              "  display: inline-block;\n",
              "}\n",
              "\n",
              ".xr-dim-list {\n",
              "  display: inline-block !important;\n",
              "  list-style: none;\n",
              "  padding: 0 !important;\n",
              "  margin: 0;\n",
              "}\n",
              "\n",
              ".xr-dim-list li {\n",
              "  display: inline-block;\n",
              "  padding: 0;\n",
              "  margin: 0;\n",
              "}\n",
              "\n",
              ".xr-dim-list:before {\n",
              "  content: '(';\n",
              "}\n",
              "\n",
              ".xr-dim-list:after {\n",
              "  content: ')';\n",
              "}\n",
              "\n",
              ".xr-dim-list li:not(:last-child):after {\n",
              "  content: ',';\n",
              "  padding-right: 5px;\n",
              "}\n",
              "\n",
              ".xr-has-index {\n",
              "  font-weight: bold;\n",
              "}\n",
              "\n",
              ".xr-var-list,\n",
              ".xr-var-item {\n",
              "  display: contents;\n",
              "}\n",
              "\n",
              ".xr-var-item > div,\n",
              ".xr-var-item label,\n",
              ".xr-var-item > .xr-var-name span {\n",
              "  background-color: var(--xr-background-color-row-even);\n",
              "  margin-bottom: 0;\n",
              "}\n",
              "\n",
              ".xr-var-item > .xr-var-name:hover span {\n",
              "  padding-right: 5px;\n",
              "}\n",
              "\n",
              ".xr-var-list > li:nth-child(odd) > div,\n",
              ".xr-var-list > li:nth-child(odd) > label,\n",
              ".xr-var-list > li:nth-child(odd) > .xr-var-name span {\n",
              "  background-color: var(--xr-background-color-row-odd);\n",
              "}\n",
              "\n",
              ".xr-var-name {\n",
              "  grid-column: 1;\n",
              "}\n",
              "\n",
              ".xr-var-dims {\n",
              "  grid-column: 2;\n",
              "}\n",
              "\n",
              ".xr-var-dtype {\n",
              "  grid-column: 3;\n",
              "  text-align: right;\n",
              "  color: var(--xr-font-color2);\n",
              "}\n",
              "\n",
              ".xr-var-preview {\n",
              "  grid-column: 4;\n",
              "}\n",
              "\n",
              ".xr-var-name,\n",
              ".xr-var-dims,\n",
              ".xr-var-dtype,\n",
              ".xr-preview,\n",
              ".xr-attrs dt {\n",
              "  white-space: nowrap;\n",
              "  overflow: hidden;\n",
              "  text-overflow: ellipsis;\n",
              "  padding-right: 10px;\n",
              "}\n",
              "\n",
              ".xr-var-name:hover,\n",
              ".xr-var-dims:hover,\n",
              ".xr-var-dtype:hover,\n",
              ".xr-attrs dt:hover {\n",
              "  overflow: visible;\n",
              "  width: auto;\n",
              "  z-index: 1;\n",
              "}\n",
              "\n",
              ".xr-var-attrs,\n",
              ".xr-var-data {\n",
              "  display: none;\n",
              "  background-color: var(--xr-background-color) !important;\n",
              "  padding-bottom: 5px !important;\n",
              "}\n",
              "\n",
              ".xr-var-attrs-in:checked ~ .xr-var-attrs,\n",
              ".xr-var-data-in:checked ~ .xr-var-data {\n",
              "  display: block;\n",
              "}\n",
              "\n",
              ".xr-var-data > table {\n",
              "  float: right;\n",
              "}\n",
              "\n",
              ".xr-var-name span,\n",
              ".xr-var-data,\n",
              ".xr-attrs {\n",
              "  padding-left: 25px !important;\n",
              "}\n",
              "\n",
              ".xr-attrs,\n",
              ".xr-var-attrs,\n",
              ".xr-var-data {\n",
              "  grid-column: 1 / -1;\n",
              "}\n",
              "\n",
              "dl.xr-attrs {\n",
              "  padding: 0;\n",
              "  margin: 0;\n",
              "  display: grid;\n",
              "  grid-template-columns: 125px auto;\n",
              "}\n",
              "\n",
              ".xr-attrs dt,\n",
              ".xr-attrs dd {\n",
              "  padding: 0;\n",
              "  margin: 0;\n",
              "  float: left;\n",
              "  padding-right: 10px;\n",
              "  width: auto;\n",
              "}\n",
              "\n",
              ".xr-attrs dt {\n",
              "  font-weight: normal;\n",
              "  grid-column: 1;\n",
              "}\n",
              "\n",
              ".xr-attrs dt:hover span {\n",
              "  display: inline-block;\n",
              "  background: var(--xr-background-color);\n",
              "  padding-right: 10px;\n",
              "}\n",
              "\n",
              ".xr-attrs dd {\n",
              "  grid-column: 2;\n",
              "  white-space: pre-wrap;\n",
              "  word-break: break-all;\n",
              "}\n",
              "\n",
              ".xr-icon-database,\n",
              ".xr-icon-file-text2 {\n",
              "  display: inline-block;\n",
              "  vertical-align: middle;\n",
              "  width: 1em;\n",
              "  height: 1.5em !important;\n",
              "  stroke-width: 0;\n",
              "  stroke: currentColor;\n",
              "  fill: currentColor;\n",
              "}\n",
              "</style><pre class='xr-text-repr-fallback'>&lt;xarray.Dataset&gt;\n",
              "Dimensions:  (Time: 5848, lat: 40, lev: 10, lon: 75)\n",
              "Coordinates:\n",
              "  * Time     (Time) datetime64[ns] 2012-01-01 ... 2013-12-31T21:00:00\n",
              "  * lat      (lat) float32 20.5 21.5 22.5 23.5 24.5 ... 55.5 56.5 57.5 58.5 59.5\n",
              "  * lon      (lon) float32 -134.5 -133.5 -132.5 -131.5 ... -62.5 -61.5 -60.5\n",
              "Dimensions without coordinates: lev\n",
              "Data variables:\n",
              "    F        (Time, lat, lon) float32 ...\n",
              "    cape     (Time, lat, lon) float32 ...\n",
              "    island   (lat, lon) int32 0 0 0 0 0 0 0 0 0 0 0 0 ... 1 1 0 0 0 1 1 0 0 0 0\n",
              "    pcp      (Time, lat, lon) float32 ...\n",
              "    q        (Time, lev, lat, lon) float32 ...\n",
              "    t        (Time, lev, lat, lon) float32 ...\n",
              "Attributes:\n",
              "    creation_date:  Thu Jan  7 18:21:22 PST 2021\n",
              "    title:          </pre><div class='xr-wrap' hidden><div class='xr-header'><div class='xr-obj-type'>xarray.Dataset</div></div><ul class='xr-sections'><li class='xr-section-item'><input id='section-d6eb6c93-e464-429c-80cf-926cf01e1d88' class='xr-section-summary-in' type='checkbox' disabled ><label for='section-d6eb6c93-e464-429c-80cf-926cf01e1d88' class='xr-section-summary'  title='Expand/collapse section'>Dimensions:</label><div class='xr-section-inline-details'><ul class='xr-dim-list'><li><span class='xr-has-index'>Time</span>: 5848</li><li><span class='xr-has-index'>lat</span>: 40</li><li><span>lev</span>: 10</li><li><span class='xr-has-index'>lon</span>: 75</li></ul></div><div class='xr-section-details'></div></li><li class='xr-section-item'><input id='section-22b8dd58-6799-4c0c-805c-cb90d164204c' class='xr-section-summary-in' type='checkbox'  checked><label for='section-22b8dd58-6799-4c0c-805c-cb90d164204c' class='xr-section-summary' >Coordinates: <span>(3)</span></label><div class='xr-section-inline-details'></div><div class='xr-section-details'><ul class='xr-var-list'><li class='xr-var-item'><div class='xr-var-name'><span class='xr-has-index'>Time</span></div><div class='xr-var-dims'>(Time)</div><div class='xr-var-dtype'>datetime64[ns]</div><div class='xr-var-preview xr-preview'>2012-01-01 ... 2013-12-31T21:00:00</div><input id='attrs-7578f646-e17c-46bf-9337-c616ec684c26' class='xr-var-attrs-in' type='checkbox' disabled><label for='attrs-7578f646-e17c-46bf-9337-c616ec684c26' title='Show/Hide attributes'><svg class='icon xr-icon-file-text2'><use xlink:href='#icon-file-text2'></use></svg></label><input id='data-8fa05e89-44b9-4df4-84cf-2aa0229c7bfb' class='xr-var-data-in' type='checkbox'><label for='data-8fa05e89-44b9-4df4-84cf-2aa0229c7bfb' title='Show/Hide data repr'><svg class='icon xr-icon-database'><use xlink:href='#icon-database'></use></svg></label><div class='xr-var-attrs'><dl class='xr-attrs'></dl></div><div class='xr-var-data'><pre>array([&#x27;2012-01-01T00:00:00.000000000&#x27;, &#x27;2012-01-01T03:00:00.000000000&#x27;,\n",
              "       &#x27;2012-01-01T06:00:00.000000000&#x27;, ..., &#x27;2013-12-31T15:00:00.000000000&#x27;,\n",
              "       &#x27;2013-12-31T18:00:00.000000000&#x27;, &#x27;2013-12-31T21:00:00.000000000&#x27;],\n",
              "      dtype=&#x27;datetime64[ns]&#x27;)</pre></div></li><li class='xr-var-item'><div class='xr-var-name'><span class='xr-has-index'>lat</span></div><div class='xr-var-dims'>(lat)</div><div class='xr-var-dtype'>float32</div><div class='xr-var-preview xr-preview'>20.5 21.5 22.5 ... 57.5 58.5 59.5</div><input id='attrs-ec943116-ce8e-4a33-bd6b-7068a7e9ef9b' class='xr-var-attrs-in' type='checkbox' ><label for='attrs-ec943116-ce8e-4a33-bd6b-7068a7e9ef9b' title='Show/Hide attributes'><svg class='icon xr-icon-file-text2'><use xlink:href='#icon-file-text2'></use></svg></label><input id='data-be38051e-15da-4550-b9f2-8dd9a5a22c85' class='xr-var-data-in' type='checkbox'><label for='data-be38051e-15da-4550-b9f2-8dd9a5a22c85' title='Show/Hide data repr'><svg class='icon xr-icon-database'><use xlink:href='#icon-database'></use></svg></label><div class='xr-var-attrs'><dl class='xr-attrs'><dt><span>units :</span></dt><dd>degrees_north</dd></dl></div><div class='xr-var-data'><pre>array([20.5, 21.5, 22.5, 23.5, 24.5, 25.5, 26.5, 27.5, 28.5, 29.5, 30.5, 31.5,\n",
              "       32.5, 33.5, 34.5, 35.5, 36.5, 37.5, 38.5, 39.5, 40.5, 41.5, 42.5, 43.5,\n",
              "       44.5, 45.5, 46.5, 47.5, 48.5, 49.5, 50.5, 51.5, 52.5, 53.5, 54.5, 55.5,\n",
              "       56.5, 57.5, 58.5, 59.5], dtype=float32)</pre></div></li><li class='xr-var-item'><div class='xr-var-name'><span class='xr-has-index'>lon</span></div><div class='xr-var-dims'>(lon)</div><div class='xr-var-dtype'>float32</div><div class='xr-var-preview xr-preview'>-134.5 -133.5 ... -61.5 -60.5</div><input id='attrs-54eb0015-e390-48f0-8565-cecef0c65727' class='xr-var-attrs-in' type='checkbox' ><label for='attrs-54eb0015-e390-48f0-8565-cecef0c65727' title='Show/Hide attributes'><svg class='icon xr-icon-file-text2'><use xlink:href='#icon-file-text2'></use></svg></label><input id='data-4999ed5c-1809-4e53-88bb-0c67bddcd3f6' class='xr-var-data-in' type='checkbox'><label for='data-4999ed5c-1809-4e53-88bb-0c67bddcd3f6' title='Show/Hide data repr'><svg class='icon xr-icon-database'><use xlink:href='#icon-database'></use></svg></label><div class='xr-var-attrs'><dl class='xr-attrs'><dt><span>units :</span></dt><dd>degrees_east</dd></dl></div><div class='xr-var-data'><pre>array([-134.5, -133.5, -132.5, -131.5, -130.5, -129.5, -128.5, -127.5, -126.5,\n",
              "       -125.5, -124.5, -123.5, -122.5, -121.5, -120.5, -119.5, -118.5, -117.5,\n",
              "       -116.5, -115.5, -114.5, -113.5, -112.5, -111.5, -110.5, -109.5, -108.5,\n",
              "       -107.5, -106.5, -105.5, -104.5, -103.5, -102.5, -101.5, -100.5,  -99.5,\n",
              "        -98.5,  -97.5,  -96.5,  -95.5,  -94.5,  -93.5,  -92.5,  -91.5,  -90.5,\n",
              "        -89.5,  -88.5,  -87.5,  -86.5,  -85.5,  -84.5,  -83.5,  -82.5,  -81.5,\n",
              "        -80.5,  -79.5,  -78.5,  -77.5,  -76.5,  -75.5,  -74.5,  -73.5,  -72.5,\n",
              "        -71.5,  -70.5,  -69.5,  -68.5,  -67.5,  -66.5,  -65.5,  -64.5,  -63.5,\n",
              "        -62.5,  -61.5,  -60.5], dtype=float32)</pre></div></li></ul></div></li><li class='xr-section-item'><input id='section-7431a52f-ed0c-429e-bdc3-f94d4332728d' class='xr-section-summary-in' type='checkbox'  checked><label for='section-7431a52f-ed0c-429e-bdc3-f94d4332728d' class='xr-section-summary' >Data variables: <span>(6)</span></label><div class='xr-section-inline-details'></div><div class='xr-section-details'><ul class='xr-var-list'><li class='xr-var-item'><div class='xr-var-name'><span>F</span></div><div class='xr-var-dims'>(Time, lat, lon)</div><div class='xr-var-dtype'>float32</div><div class='xr-var-preview xr-preview'>...</div><input id='attrs-156bfd49-9faf-43b1-bb24-e6fa830e00cc' class='xr-var-attrs-in' type='checkbox' ><label for='attrs-156bfd49-9faf-43b1-bb24-e6fa830e00cc' title='Show/Hide attributes'><svg class='icon xr-icon-file-text2'><use xlink:href='#icon-file-text2'></use></svg></label><input id='data-3b79682e-b55c-4971-8592-a933fd9c3ad6' class='xr-var-data-in' type='checkbox'><label for='data-3b79682e-b55c-4971-8592-a933fd9c3ad6' title='Show/Hide data repr'><svg class='icon xr-icon-database'><use xlink:href='#icon-database'></use></svg></label><div class='xr-var-attrs'><dl class='xr-attrs'><dt><span>long_name :</span></dt><dd>3-hourly Lightning Occurrence</dd></dl></div><div class='xr-var-data'><pre>[17544000 values with dtype=float32]</pre></div></li><li class='xr-var-item'><div class='xr-var-name'><span>cape</span></div><div class='xr-var-dims'>(Time, lat, lon)</div><div class='xr-var-dtype'>float32</div><div class='xr-var-preview xr-preview'>...</div><input id='attrs-ba689f27-0522-42bc-8668-35f753662e90' class='xr-var-attrs-in' type='checkbox' disabled><label for='attrs-ba689f27-0522-42bc-8668-35f753662e90' title='Show/Hide attributes'><svg class='icon xr-icon-file-text2'><use xlink:href='#icon-file-text2'></use></svg></label><input id='data-cd576a5c-ee27-4d64-9c65-11576fecd3fd' class='xr-var-data-in' type='checkbox'><label for='data-cd576a5c-ee27-4d64-9c65-11576fecd3fd' title='Show/Hide data repr'><svg class='icon xr-icon-database'><use xlink:href='#icon-database'></use></svg></label><div class='xr-var-attrs'><dl class='xr-attrs'></dl></div><div class='xr-var-data'><pre>[17544000 values with dtype=float32]</pre></div></li><li class='xr-var-item'><div class='xr-var-name'><span>island</span></div><div class='xr-var-dims'>(lat, lon)</div><div class='xr-var-dtype'>int32</div><div class='xr-var-preview xr-preview'>...</div><input id='attrs-b48d4ed2-9b26-473a-9ee7-ccc63a3b0f07' class='xr-var-attrs-in' type='checkbox' disabled><label for='attrs-b48d4ed2-9b26-473a-9ee7-ccc63a3b0f07' title='Show/Hide attributes'><svg class='icon xr-icon-file-text2'><use xlink:href='#icon-file-text2'></use></svg></label><input id='data-116b925a-35b4-4554-ac1c-68bf0020f0a5' class='xr-var-data-in' type='checkbox'><label for='data-116b925a-35b4-4554-ac1c-68bf0020f0a5' title='Show/Hide data repr'><svg class='icon xr-icon-database'><use xlink:href='#icon-database'></use></svg></label><div class='xr-var-attrs'><dl class='xr-attrs'></dl></div><div class='xr-var-data'><pre>array([[0, 0, 0, ..., 0, 0, 0],\n",
              "       [0, 0, 0, ..., 0, 0, 0],\n",
              "       [0, 0, 0, ..., 0, 0, 0],\n",
              "       ...,\n",
              "       [0, 1, 1, ..., 1, 1, 0],\n",
              "       [1, 1, 1, ..., 0, 0, 0],\n",
              "       [1, 1, 1, ..., 0, 0, 0]], dtype=int32)</pre></div></li><li class='xr-var-item'><div class='xr-var-name'><span>pcp</span></div><div class='xr-var-dims'>(Time, lat, lon)</div><div class='xr-var-dtype'>float32</div><div class='xr-var-preview xr-preview'>...</div><input id='attrs-856711f9-f332-4060-8b60-0c6e4d6d4bef' class='xr-var-attrs-in' type='checkbox' disabled><label for='attrs-856711f9-f332-4060-8b60-0c6e4d6d4bef' title='Show/Hide attributes'><svg class='icon xr-icon-file-text2'><use xlink:href='#icon-file-text2'></use></svg></label><input id='data-de8742c2-b951-416f-8152-665879c0cfca' class='xr-var-data-in' type='checkbox'><label for='data-de8742c2-b951-416f-8152-665879c0cfca' title='Show/Hide data repr'><svg class='icon xr-icon-database'><use xlink:href='#icon-database'></use></svg></label><div class='xr-var-attrs'><dl class='xr-attrs'></dl></div><div class='xr-var-data'><pre>[17544000 values with dtype=float32]</pre></div></li><li class='xr-var-item'><div class='xr-var-name'><span>q</span></div><div class='xr-var-dims'>(Time, lev, lat, lon)</div><div class='xr-var-dtype'>float32</div><div class='xr-var-preview xr-preview'>...</div><input id='attrs-d20a0856-60c4-4254-b737-ac93f404ca60' class='xr-var-attrs-in' type='checkbox' disabled><label for='attrs-d20a0856-60c4-4254-b737-ac93f404ca60' title='Show/Hide attributes'><svg class='icon xr-icon-file-text2'><use xlink:href='#icon-file-text2'></use></svg></label><input id='data-79b4fef1-d63b-44d4-b6df-089d6a7bfc79' class='xr-var-data-in' type='checkbox'><label for='data-79b4fef1-d63b-44d4-b6df-089d6a7bfc79' title='Show/Hide data repr'><svg class='icon xr-icon-database'><use xlink:href='#icon-database'></use></svg></label><div class='xr-var-attrs'><dl class='xr-attrs'></dl></div><div class='xr-var-data'><pre>[175440000 values with dtype=float32]</pre></div></li><li class='xr-var-item'><div class='xr-var-name'><span>t</span></div><div class='xr-var-dims'>(Time, lev, lat, lon)</div><div class='xr-var-dtype'>float32</div><div class='xr-var-preview xr-preview'>...</div><input id='attrs-512652c9-c31e-4c6b-9560-bda91d2de5a2' class='xr-var-attrs-in' type='checkbox' disabled><label for='attrs-512652c9-c31e-4c6b-9560-bda91d2de5a2' title='Show/Hide attributes'><svg class='icon xr-icon-file-text2'><use xlink:href='#icon-file-text2'></use></svg></label><input id='data-0e0a05b0-b98f-462f-b1bb-908f1935b9df' class='xr-var-data-in' type='checkbox'><label for='data-0e0a05b0-b98f-462f-b1bb-908f1935b9df' title='Show/Hide data repr'><svg class='icon xr-icon-database'><use xlink:href='#icon-database'></use></svg></label><div class='xr-var-attrs'><dl class='xr-attrs'></dl></div><div class='xr-var-data'><pre>[175440000 values with dtype=float32]</pre></div></li></ul></div></li><li class='xr-section-item'><input id='section-a7159cbe-b25c-4977-9a6d-b691945e4e3b' class='xr-section-summary-in' type='checkbox'  checked><label for='section-a7159cbe-b25c-4977-9a6d-b691945e4e3b' class='xr-section-summary' >Attributes: <span>(2)</span></label><div class='xr-section-inline-details'></div><div class='xr-section-details'><dl class='xr-attrs'><dt><span>creation_date :</span></dt><dd>Thu Jan  7 18:21:22 PST 2021</dd><dt><span>title :</span></dt><dd></dd></dl></div></li></ul></div></div>"
            ],
            "text/plain": [
              "<xarray.Dataset>\n",
              "Dimensions:  (Time: 5848, lat: 40, lev: 10, lon: 75)\n",
              "Coordinates:\n",
              "  * Time     (Time) datetime64[ns] 2012-01-01 ... 2013-12-31T21:00:00\n",
              "  * lat      (lat) float32 20.5 21.5 22.5 23.5 24.5 ... 55.5 56.5 57.5 58.5 59.5\n",
              "  * lon      (lon) float32 -134.5 -133.5 -132.5 -131.5 ... -62.5 -61.5 -60.5\n",
              "Dimensions without coordinates: lev\n",
              "Data variables:\n",
              "    F        (Time, lat, lon) float32 ...\n",
              "    cape     (Time, lat, lon) float32 ...\n",
              "    island   (lat, lon) int32 ...\n",
              "    pcp      (Time, lat, lon) float32 ...\n",
              "    q        (Time, lev, lat, lon) float32 ...\n",
              "    t        (Time, lev, lat, lon) float32 ...\n",
              "Attributes:\n",
              "    creation_date:  Thu Jan  7 18:21:22 PST 2021\n",
              "    title:          "
            ]
          },
          "metadata": {
            "tags": []
          },
          "execution_count": 16
        }
      ]
    },
    {
      "cell_type": "code",
      "metadata": {
        "id": "D3DxXY8976Uq",
        "colab": {
          "base_uri": "https://localhost:8080/",
          "height": 37
        },
        "outputId": "dfffba37-3499-42b5-c1f4-afe069e0601c"
      },
      "source": [
        "# Now lets try to connect to a GPU?\n",
        "# Runtime --> Change runtime type --> GPU\n",
        "# WARNING: you have to re-execute everything if doing this (doesn't simply attach GPU)\n",
        "# (so best to install libraries in first cell and ensure correct runtime before starting execution)\n",
        "import xarray as xr\n",
        "xr.__version__"
      ],
      "id": "D3DxXY8976Uq",
      "execution_count": null,
      "outputs": [
        {
          "output_type": "execute_result",
          "data": {
            "application/vnd.google.colaboratory.intrinsic+json": {
              "type": "string"
            },
            "text/plain": [
              "'0.15.1'"
            ]
          },
          "metadata": {
            "tags": []
          },
          "execution_count": 5
        }
      ]
    }
  ]
}