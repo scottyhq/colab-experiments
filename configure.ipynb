{
  "nbformat": 4,
  "nbformat_minor": 5,
  "metadata": {
    "kernelspec": {
      "display_name": "Python 3",
      "language": "python",
      "name": "python3"
    },
    "language_info": {
      "codemirror_mode": {
        "name": "ipython",
        "version": 3
      },
      "file_extension": ".py",
      "mimetype": "text/x-python",
      "name": "python",
      "nbconvert_exporter": "python",
      "pygments_lexer": "ipython3",
      "version": "3.8.6"
    },
    "colab": {
      "name": "configure.ipynb",
      "provenance": []
    }
  },
  "cells": [
    {
      "cell_type": "code",
      "metadata": {
        "id": "advance-vulnerability",
        "outputId": "780438e8-ff43-4095-914e-9d6ad5c080ef",
        "colab": {
          "base_uri": "https://localhost:8080/"
        }
      },
      "source": [
        "# although we started this notebook from a binder badge here https://github.com/scottyhq/colab-experiments\n",
        "# we don't have the full repository contents in the default directory\n",
        "!ls"
      ],
      "id": "advance-vulnerability",
      "execution_count": 3,
      "outputs": [
        {
          "output_type": "stream",
          "text": [
            "sample_data\n"
          ],
          "name": "stdout"
        }
      ]
    },
    {
      "cell_type": "code",
      "metadata": {
        "id": "7jlH1xGw3z-G"
      },
      "source": [
        "# but edits can be committed back to github via File --> Save a Copy in GitHub"
      ],
      "id": "7jlH1xGw3z-G",
      "execution_count": 4,
      "outputs": []
    }
  ]
}